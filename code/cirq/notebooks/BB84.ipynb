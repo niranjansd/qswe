{
  "nbformat": 4,
  "nbformat_minor": 0,
  "metadata": {
    "colab": {
      "name": "BB84.ipynb",
      "provenance": []
    },
    "kernelspec": {
      "name": "python3",
      "display_name": "Python 3"
    },
    "language_info": {
      "name": "python"
    }
  },
  "cells": [
    {
      "cell_type": "code",
      "execution_count": 14,
      "metadata": {
        "id": "DTQ1_KiVUkrR"
      },
      "outputs": [],
      "source": [
        "!pip install cirq --quiet"
      ]
    },
    {
      "cell_type": "code",
      "source": [
        "!git clone https://github.com/niranjansd/qswe.git"
      ],
      "metadata": {
        "colab": {
          "base_uri": "https://localhost:8080/"
        },
        "id": "bA-MbgEUrxEW",
        "outputId": "ed5e3197-970d-4555-df07-81c8e79d3ab4"
      },
      "execution_count": 8,
      "outputs": [
        {
          "output_type": "stream",
          "name": "stdout",
          "text": [
            "Cloning into 'qswe'...\n",
            "remote: Enumerating objects: 49, done.\u001b[K\n",
            "remote: Counting objects:   2% (1/49)\u001b[K\rremote: Counting objects:   4% (2/49)\u001b[K\rremote: Counting objects:   6% (3/49)\u001b[K\rremote: Counting objects:   8% (4/49)\u001b[K\rremote: Counting objects:  10% (5/49)\u001b[K\rremote: Counting objects:  12% (6/49)\u001b[K\rremote: Counting objects:  14% (7/49)\u001b[K\rremote: Counting objects:  16% (8/49)\u001b[K\rremote: Counting objects:  18% (9/49)\u001b[K\rremote: Counting objects:  20% (10/49)\u001b[K\rremote: Counting objects:  22% (11/49)\u001b[K\rremote: Counting objects:  24% (12/49)\u001b[K\rremote: Counting objects:  26% (13/49)\u001b[K\rremote: Counting objects:  28% (14/49)\u001b[K\rremote: Counting objects:  30% (15/49)\u001b[K\rremote: Counting objects:  32% (16/49)\u001b[K\rremote: Counting objects:  34% (17/49)\u001b[K\rremote: Counting objects:  36% (18/49)\u001b[K\rremote: Counting objects:  38% (19/49)\u001b[K\rremote: Counting objects:  40% (20/49)\u001b[K\rremote: Counting objects:  42% (21/49)\u001b[K\rremote: Counting objects:  44% (22/49)\u001b[K\rremote: Counting objects:  46% (23/49)\u001b[K\rremote: Counting objects:  48% (24/49)\u001b[K\rremote: Counting objects:  51% (25/49)\u001b[K\rremote: Counting objects:  53% (26/49)\u001b[K\rremote: Counting objects:  55% (27/49)\u001b[K\rremote: Counting objects:  57% (28/49)\u001b[K\rremote: Counting objects:  59% (29/49)\u001b[K\rremote: Counting objects:  61% (30/49)\u001b[K\rremote: Counting objects:  63% (31/49)\u001b[K\rremote: Counting objects:  65% (32/49)\u001b[K\rremote: Counting objects:  67% (33/49)\u001b[K\rremote: Counting objects:  69% (34/49)\u001b[K\rremote: Counting objects:  71% (35/49)\u001b[K\rremote: Counting objects:  73% (36/49)\u001b[K\rremote: Counting objects:  75% (37/49)\u001b[K\rremote: Counting objects:  77% (38/49)\u001b[K\rremote: Counting objects:  79% (39/49)\u001b[K\rremote: Counting objects:  81% (40/49)\u001b[K\rremote: Counting objects:  83% (41/49)\u001b[K\rremote: Counting objects:  85% (42/49)\u001b[K\rremote: Counting objects:  87% (43/49)\u001b[K\rremote: Counting objects:  89% (44/49)\u001b[K\rremote: Counting objects:  91% (45/49)\u001b[K\rremote: Counting objects:  93% (46/49)\u001b[K\rremote: Counting objects:  95% (47/49)\u001b[K\rremote: Counting objects:  97% (48/49)\u001b[K\rremote: Counting objects: 100% (49/49)\u001b[K\rremote: Counting objects: 100% (49/49), done.\u001b[K\n",
            "remote: Compressing objects:   2% (1/35)\u001b[K\rremote: Compressing objects:   5% (2/35)\u001b[K\rremote: Compressing objects:   8% (3/35)\u001b[K\rremote: Compressing objects:  11% (4/35)\u001b[K\rremote: Compressing objects:  14% (5/35)\u001b[K\rremote: Compressing objects:  17% (6/35)\u001b[K\rremote: Compressing objects:  20% (7/35)\u001b[K\rremote: Compressing objects:  22% (8/35)\u001b[K\rremote: Compressing objects:  25% (9/35)\u001b[K\rremote: Compressing objects:  28% (10/35)\u001b[K\rremote: Compressing objects:  31% (11/35)\u001b[K\rremote: Compressing objects:  34% (12/35)\u001b[K\rremote: Compressing objects:  37% (13/35)\u001b[K\rremote: Compressing objects:  40% (14/35)\u001b[K\rremote: Compressing objects:  42% (15/35)\u001b[K\rremote: Compressing objects:  45% (16/35)\u001b[K\rremote: Compressing objects:  48% (17/35)\u001b[K\rremote: Compressing objects:  51% (18/35)\u001b[K\rremote: Compressing objects:  54% (19/35)\u001b[K\rremote: Compressing objects:  57% (20/35)\u001b[K\rremote: Compressing objects:  60% (21/35)\u001b[K\rremote: Compressing objects:  62% (22/35)\u001b[K\rremote: Compressing objects:  65% (23/35)\u001b[K\rremote: Compressing objects:  68% (24/35)\u001b[K\rremote: Compressing objects:  71% (25/35)\u001b[K\rremote: Compressing objects:  74% (26/35)\u001b[K\rremote: Compressing objects:  77% (27/35)\u001b[K\rremote: Compressing objects:  80% (28/35)\u001b[K\rremote: Compressing objects:  82% (29/35)\u001b[K\rremote: Compressing objects:  85% (30/35)\u001b[K\rremote: Compressing objects:  88% (31/35)\u001b[K\rremote: Compressing objects:  91% (32/35)\u001b[K\rremote: Compressing objects:  94% (33/35)\u001b[K\rremote: Compressing objects:  97% (34/35)\u001b[K\rremote: Compressing objects: 100% (35/35)\u001b[K\rremote: Compressing objects: 100% (35/35), done.\u001b[K\n",
            "remote: Total 49 (delta 10), reused 38 (delta 5), pack-reused 0\u001b[K\n",
            "Unpacking objects:   2% (1/49)   \rUnpacking objects:   4% (2/49)   \rUnpacking objects:   6% (3/49)   \rUnpacking objects:   8% (4/49)   \rUnpacking objects:  10% (5/49)   \rUnpacking objects:  12% (6/49)   \rUnpacking objects:  14% (7/49)   \rUnpacking objects:  16% (8/49)   \rUnpacking objects:  18% (9/49)   \rUnpacking objects:  20% (10/49)   \rUnpacking objects:  22% (11/49)   \rUnpacking objects:  24% (12/49)   \rUnpacking objects:  26% (13/49)   \rUnpacking objects:  28% (14/49)   \rUnpacking objects:  30% (15/49)   \rUnpacking objects:  32% (16/49)   \rUnpacking objects:  34% (17/49)   \rUnpacking objects:  36% (18/49)   \rUnpacking objects:  38% (19/49)   \rUnpacking objects:  40% (20/49)   \rUnpacking objects:  42% (21/49)   \rUnpacking objects:  44% (22/49)   \rUnpacking objects:  46% (23/49)   \rUnpacking objects:  48% (24/49)   \rUnpacking objects:  51% (25/49)   \rUnpacking objects:  53% (26/49)   \rUnpacking objects:  55% (27/49)   \rUnpacking objects:  57% (28/49)   \rUnpacking objects:  59% (29/49)   \rUnpacking objects:  61% (30/49)   \rUnpacking objects:  63% (31/49)   \rUnpacking objects:  65% (32/49)   \rUnpacking objects:  67% (33/49)   \rUnpacking objects:  69% (34/49)   \rUnpacking objects:  71% (35/49)   \rUnpacking objects:  73% (36/49)   \rUnpacking objects:  75% (37/49)   \rUnpacking objects:  77% (38/49)   \rUnpacking objects:  79% (39/49)   \rUnpacking objects:  81% (40/49)   \rUnpacking objects:  83% (41/49)   \rUnpacking objects:  85% (42/49)   \rUnpacking objects:  87% (43/49)   \rUnpacking objects:  89% (44/49)   \rUnpacking objects:  91% (45/49)   \rUnpacking objects:  93% (46/49)   \rUnpacking objects:  95% (47/49)   \rUnpacking objects:  97% (48/49)   \rUnpacking objects: 100% (49/49)   \rUnpacking objects: 100% (49/49), done.\n"
          ]
        }
      ]
    },
    {
      "cell_type": "code",
      "source": [
        "import sys\n",
        "sys.path.append('qswe/code/cirq')\n",
        "from lib import bb84\n",
        "import importlib\n",
        "importlib.reload(bb84)"
      ],
      "metadata": {
        "colab": {
          "base_uri": "https://localhost:8080/"
        },
        "id": "Bt605fYzVwek",
        "outputId": "7f726d8b-d9c0-4953-a6bf-68da6f85fc23"
      },
      "execution_count": 9,
      "outputs": [
        {
          "output_type": "execute_result",
          "data": {
            "text/plain": [
              "<module 'lib.bb84' from 'quantum-software/code/cirq/lib/bb84.py'>"
            ]
          },
          "metadata": {},
          "execution_count": 9
        }
      ]
    },
    {
      "cell_type": "code",
      "source": [
        "bb84run = bb84.BB84()"
      ],
      "metadata": {
        "id": "1YW9T-TnV4E4"
      },
      "execution_count": 10,
      "outputs": []
    },
    {
      "cell_type": "code",
      "source": [
        "bb84run.simulate_base_protocol()"
      ],
      "metadata": {
        "id": "FY-pKha2Wtco",
        "colab": {
          "base_uri": "https://localhost:8080/"
        },
        "outputId": "aa3de9d1-2fbc-4633-afc9-48707e15cfc2"
      },
      "execution_count": 11,
      "outputs": [
        {
          "output_type": "stream",
          "name": "stdout",
          "text": [
            "######### Printing legend ##########\n",
            "Bases : C = Computational Basis (0,1); H = Hadamard Basis (+, -)\n",
            "Gates : X = Pauli X; H = Hadamard; M = Measurement\n",
            "########## Printing circuit ##########\n",
            "0: ───X───────────M───\n",
            "\n",
            "1: ───────H───H───M───\n",
            "\n",
            "2: ───X───────H───M───\n",
            "\n",
            "3: ───X───────H───M───\n",
            "\n",
            "4: ───X───────H───M───\n",
            "\n",
            "5: ───X───H───H───M───\n",
            "\n",
            "6: ───────────H───M───\n",
            "\n",
            "7: ───────H───H───M───\n",
            "########## Printing results ##########\n",
            "Only Alice knows Alice's message:\t10111100\n",
            "After Bob's measurement, the bases are made public: \n",
            "Alice's basis:\tCHCCCHCH\n",
            "Bob's basis:\tCHHHHHHH\n",
            "Bases match::\tXX___X_X\n",
            "Key according to Alice:\t1010\n",
            "Key according to Bob:\t1010\n",
            "The next message can be sent on classical channel encrypted with this shared secret key.\n"
          ]
        }
      ]
    },
    {
      "cell_type": "code",
      "source": [
        "bb84run.simulate_eavesdropped_protocol(num_qubits=8)"
      ],
      "metadata": {
        "colab": {
          "base_uri": "https://localhost:8080/"
        },
        "id": "-fdsz0UpdTPW",
        "outputId": "05d1f066-1f53-4ddc-ce2d-a2bac69d15b2"
      },
      "execution_count": 13,
      "outputs": [
        {
          "output_type": "stream",
          "name": "stdout",
          "text": [
            "######### Printing legend ##########\n",
            "Bases : C = Computational Basis (0,1); H = Hadamard Basis (+, -)\n",
            "Gates : X = Pauli X; H = Hadamard; M = Measurement\n",
            "########## Printing circuit ##########\n",
            "0: ───────────H───M───X───H───H───M───\n",
            "\n",
            "1: ───X───────H───M───X───H───────M───\n",
            "\n",
            "2: ───────H───H───M───────H───────M───\n",
            "\n",
            "3: ───X───H───H───M───X───H───────M───\n",
            "\n",
            "4: ───X───H───────M───────────H───M───\n",
            "\n",
            "5: ───────H───H───M───────H───H───M───\n",
            "\n",
            "6: ───────H───────M───────────H───M───\n",
            "\n",
            "7: ───X───H───────M───────────────M───\n",
            "########## Printing results ##########\n",
            "Only Alice knows Alice's message:\t01011001\n",
            "Eve's best guess for Alice's state is:\t11010000\n",
            "After Bob's measurement, the bases are made public: \n",
            "Alice's basis:\tCCHHHHHH\n",
            "Eve's basis:\tHHHHCHCC\n",
            "Bob's basis:\tHCCCHHHC\n",
            "Eve's bases match::\t__XX_X__\n",
            "Bob's bases match::\t_X__XXX_\n",
            "Key according to Alice:\t1100\n",
            "Key according to Eve:\t1100\n",
            "Key according to Bob:\t1101\n",
            "Alice sends the next message on classical channel encrypted with her key.\n",
            "    If Eve is still listening she can decrypt the message.\n",
            "    But since Bob cannot decrypt the message they will know something went wrong.\n",
            "    So the first message can be a known dummy message,\n",
            "    for example, Alice can resend her already public basis\n",
            "    so that Eve is detected before any secret information is leaked.\n"
          ]
        }
      ]
    }
  ]
}