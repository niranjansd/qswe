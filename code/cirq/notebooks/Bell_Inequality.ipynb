{
  "nbformat": 4,
  "nbformat_minor": 0,
  "metadata": {
    "colab": {
      "name": "Bell Inequality.ipynb",
      "provenance": []
    },
    "kernelspec": {
      "name": "python3",
      "display_name": "Python 3"
    },
    "language_info": {
      "name": "python"
    }
  },
  "cells": [
    {
      "cell_type": "code",
      "source": [
        "!pip install cirq --quiet\n",
        "!git clone https://github.com/niranjansd/qswe.git"
      ],
      "metadata": {
        "id": "LC-qRGBeolx4"
      },
      "execution_count": 30,
      "outputs": []
    },
    {
      "cell_type": "code",
      "source": [
        "import sys\n",
        "sys.path.append('qswe/code/cirq')\n",
        "from lib import bell_inequality"
      ],
      "metadata": {
        "id": "xKtn_4ZsotGI"
      },
      "execution_count": 31,
      "outputs": []
    },
    {
      "cell_type": "code",
      "execution_count": 28,
      "metadata": {
        "colab": {
          "base_uri": "https://localhost:8080/"
        },
        "id": "lq47GOK5oeiw",
        "outputId": "3f83a9be-f881-4a07-d7fa-5ab619079c2b"
      },
      "outputs": [
        {
          "output_type": "stream",
          "name": "stdout",
          "text": [
            "Quantum Best Strategy Circuit:\n",
            "                        ┌──────┐\n",
            "a: ───H───@───X^-0.25────X^0.5─────M───\n",
            "          │              │\n",
            "b: ───────X───X^0.5──────┼────M────────\n",
            "              │          │\n",
            "x: ───H───────┼──────────@─────────M───\n",
            "              │\n",
            "y: ───H───────@──────────M─────────────\n",
            "                        └──────┘\n",
            "Simulating 100 repetitions...\n",
            "Results\n",
            "a: __1__1____1__11111_111__11___1_11__111_1_____11_11111_1_111_1111__111___1111___1_1_1_1__111_1111_1__\n",
            "b: __1__1_1_11__1_1111_111__1___11_1__111_1___1_11_1111__1__111_1___11_1____11_1__1_1_1__1__11_11_1____\n",
            "x: _11__1111_1__111__11__1111_11__111_1_1_1_1___111__1_11_11_111_11_111_1__1__11___1__1__11_11__11111_1\n",
            "y: 1___1__1______1_111_1111111____1_11_______11________1___11__1111111___1_111_1__1_11_1_1_____1_1_1___\n",
            "(a XOR b) == (x AND y):\n",
            "   111111111_111111111_111_1_1111_11_111111111_111111111111111_111111__1111111_111111111_11_1111111__11\n",
            "Win rate: 85.0%\n"
          ]
        }
      ],
      "source": [
        "belltest = bell_inequality.CHSHBell(repetitions=100)\n",
        "belltest.run_quantum_bell_test()"
      ]
    },
    {
      "cell_type": "code",
      "source": [
        "belltest.run_classical_bell_test()"
      ],
      "metadata": {
        "colab": {
          "base_uri": "https://localhost:8080/"
        },
        "id": "8ygA9YH29Nz3",
        "outputId": "3426a8a0-6952-48e6-d4da-4627266c897a"
      },
      "execution_count": 29,
      "outputs": [
        {
          "output_type": "stream",
          "name": "stdout",
          "text": [
            "Classical Best Strategy Circuit:\n",
            "a: ───M───────\n",
            "\n",
            "b: ───M───────\n",
            "\n",
            "x: ───H───M───\n",
            "\n",
            "y: ───H───M───\n",
            "Simulating 100 repetitions...\n",
            "Results\n",
            "a: ____________________________________________________________________________________________________\n",
            "b: ____________________________________________________________________________________________________\n",
            "x: _1_111__1__111____11______11_1__1_11_111_1_11_11__1_111_1_1__1_1_11__11____11___1_1_11__11_1_1_1_1__\n",
            "y: 1_11__1_________11111____111_1_111___1111__11__111_111_1__1___11__1_______11_11______1__1111_11_1__1\n",
            "(a XOR b) == (x AND y):\n",
            "   111_11111111111111__111111__1_11_1111___111__11_1111__1111_1111_11_11111111_111111111_11__1_1_111111\n",
            "Win rate: 76.0%\n"
          ]
        }
      ]
    }
  ]
}