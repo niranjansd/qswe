{
  "nbformat": 4,
  "nbformat_minor": 0,
  "metadata": {
    "colab": {
      "name": "Cirq_Bell Inequality.ipynb",
      "provenance": []
    },
    "kernelspec": {
      "name": "python3",
      "display_name": "Python 3"
    },
    "language_info": {
      "name": "python"
    }
  },
  "cells": [
    {
      "cell_type": "code",
      "source": [
        "!pip install cirq --quiet\n"
      ],
      "metadata": {
        "id": "LC-qRGBeolx4"
      },
      "execution_count": 5,
      "outputs": []
    },
    {
      "cell_type": "code",
      "source": [
        "#@title Bell Inequality Simulator\n",
        "## Imports\n",
        "import numpy as np\n",
        "import cirq\n",
        "\n",
        "## Utility functions\n",
        "def bitstring(bits):\n",
        "    return ''.join('1' if e else '_' for e in bits)\n",
        "\n",
        "\n",
        "class CHSHBell(object):\n",
        "\n",
        "    def __init__(self, repetitions=1):\n",
        "        super().__init__()\n",
        "        self.repetitions = repetitions\n",
        "    \n",
        "    def setup(self):\n",
        "        alice_recv = cirq.NamedQubit(\"x\")\n",
        "        bob_recv = cirq.NamedQubit(\"y\")\n",
        "        alice_retn = cirq.NamedQubit(\"a\")\n",
        "        bob_retn = cirq.NamedQubit(\"b\")\n",
        "        return alice_recv, bob_recv, alice_retn, bob_retn\n",
        "\n",
        "    def make_quantum_bell_test_circuit(self, alice_recv, bob_recv, alice_retn, bob_retn):\n",
        "        circuit = cirq.Circuit()\n",
        "\n",
        "        # Prepare shared entangled state.\n",
        "        circuit.append([cirq.H(alice_retn), cirq.CNOT(alice_retn, bob_retn)])\n",
        "\n",
        "        # Received bits are randomized.\n",
        "        circuit.append([cirq.H(alice_recv), cirq.H(bob_recv)])\n",
        "\n",
        "        # Players do a sqrt(X) based on their received bit.\n",
        "        circuit.append(\n",
        "            [cirq.X(alice_retn) ** -0.25,\n",
        "             cirq.CNOT(alice_recv, alice_retn) ** 0.5,\n",
        "             cirq.CNOT(bob_recv, bob_retn) ** 0.5]\n",
        "        )\n",
        "        # Then results are recorded.\n",
        "        circuit.append(\n",
        "            [\n",
        "                cirq.measure(alice_recv, key='x'),\n",
        "                cirq.measure(alice_retn, key='a'),\n",
        "                cirq.measure(bob_recv, key='y'),\n",
        "                cirq.measure(bob_retn, key='b'),\n",
        "            ]\n",
        "        )\n",
        "        return circuit\n",
        "\n",
        "    def run_quantum_bell_test(self):\n",
        "        alice_recv, bob_recv, alice_retn, bob_retn = self.setup()\n",
        "        self.circuit = self.make_quantum_bell_test_circuit(alice_recv, bob_recv, alice_retn, bob_retn)\n",
        "        print('Quantum Best Strategy Circuit:')\n",
        "        print(self.circuit)\n",
        "\n",
        "        print(f'Simulating {self.repetitions} repetitions...')\n",
        "        result = cirq.Simulator().run(program=self.circuit, repetitions=self.repetitions)\n",
        "\n",
        "        # Collect results.\n",
        "        a = np.array(result.measurements['a'][:, 0])\n",
        "        b = np.array(result.measurements['b'][:, 0])\n",
        "        x = np.array(result.measurements['x'][:, 0])\n",
        "        y = np.array(result.measurements['y'][:, 0])\n",
        "        outcomes = a ^ b == x & y\n",
        "        win_percent = len([e for e in outcomes if e]) * 100 / self.repetitions\n",
        "\n",
        "        # Print data.\n",
        "        print('Results')\n",
        "        print('a:', bitstring(a))\n",
        "        print('b:', bitstring(b))\n",
        "        print('x:', bitstring(x))\n",
        "        print('y:', bitstring(y))\n",
        "        print('(a XOR b) == (x AND y):\\n  ', bitstring(outcomes))\n",
        "        print(f'Win rate: {win_percent}%')\n",
        "\n",
        "    def make_classical_bell_test_circuit(self, alice_recv, bob_recv, alice_retn, bob_retn):\n",
        "        circuit = cirq.Circuit()\n",
        "        # Received bits are randomized.\n",
        "        circuit.append([cirq.H(alice_recv), cirq.H(bob_recv)])\n",
        "        # Alice and Bob simply return 0s.\n",
        "        # Then results are recorded.\n",
        "        circuit.append(\n",
        "            [\n",
        "                cirq.measure(alice_recv, key='x'),\n",
        "                cirq.measure(alice_retn, key='a'),\n",
        "                cirq.measure(bob_recv, key='y'),\n",
        "                cirq.measure(bob_retn, key='b'),\n",
        "            ]\n",
        "        )\n",
        "        return circuit\n",
        "\n",
        "    def run_classical_bell_test(self):\n",
        "        alice_recv, bob_recv, alice_retn, bob_retn = self.setup()\n",
        "        self.circuit = self.make_classical_bell_test_circuit(alice_recv, bob_recv, alice_retn, bob_retn)\n",
        "        print('Classical Best Strategy Circuit:')\n",
        "        print(self.circuit)\n",
        "\n",
        "        print(f'Simulating {self.repetitions} repetitions...')\n",
        "        result = cirq.Simulator().run(program=self.circuit, repetitions=self.repetitions)\n",
        "\n",
        "        # Collect results.\n",
        "        a = np.array(result.measurements['a'][:, 0])\n",
        "        b = np.array(result.measurements['b'][:, 0])\n",
        "        x = np.array(result.measurements['x'][:, 0])\n",
        "        y = np.array(result.measurements['y'][:, 0])\n",
        "        outcomes = a ^ b == x & y\n",
        "        win_percent = len([e for e in outcomes if e]) * 100 / self.repetitions\n",
        "\n",
        "        # Print data.\n",
        "        print('Results')\n",
        "        print('a:', bitstring(a))\n",
        "        print('b:', bitstring(b))\n",
        "        print('x:', bitstring(x))\n",
        "        print('y:', bitstring(y))\n",
        "        print('(a XOR b) == (x AND y):\\n  ', bitstring(outcomes))\n",
        "        print(f'Win rate: {win_percent}%')\n"
      ],
      "metadata": {
        "cellView": "form",
        "id": "xKtn_4ZsotGI"
      },
      "execution_count": 2,
      "outputs": []
    },
    {
      "cell_type": "code",
      "execution_count": 3,
      "metadata": {
        "colab": {
          "base_uri": "https://localhost:8080/"
        },
        "id": "lq47GOK5oeiw",
        "outputId": "6579cba5-e4d4-4a30-b6a1-5647ee5b3368"
      },
      "outputs": [
        {
          "output_type": "stream",
          "name": "stdout",
          "text": [
            "Quantum Best Strategy Circuit:\n",
            "                        ┌──────┐\n",
            "a: ───H───@───X^-0.25────X^0.5─────M───\n",
            "          │              │\n",
            "b: ───────X───X^0.5──────┼────M────────\n",
            "              │          │\n",
            "x: ───H───────┼──────────@─────────M───\n",
            "              │\n",
            "y: ───H───────@──────────M─────────────\n",
            "                        └──────┘\n",
            "Simulating 100 repetitions...\n",
            "Results\n",
            "a: __1_1__11_1_11__11__1_11___1111___1_1___11_1__1_1__1__1111_1_1_1__111111____1_111___1_1___1111111___\n",
            "b: _11_1__11______1_1_1__11___11111__111_1_1_11_1__1__1111___1111_1___11111_111__1____11_1___1_1___1__1\n",
            "x: 11___1_1_11111_____11__________1__111_1_11__11111_111111111__1_11_11___111_11_1_1_1111___1_1_111__1_\n",
            "y: 11_111____1__111___111____11_11111_11111_11___1__1__11_1111___1__11_111_111111_11__11_1_1_111111_1_1\n",
            "(a XOR b) == (x AND y):\n",
            "   _1111_111111_11__1111111111111111111_11111_11_11111111111111_11111111111_1_1111_1111_11111111111111_\n",
            "Win rate: 86.0%\n"
          ]
        }
      ],
      "source": [
        "belltest = CHSHBell(repetitions=100)\n",
        "belltest.run_quantum_bell_test()"
      ]
    },
    {
      "cell_type": "code",
      "source": [
        "belltest.run_classical_bell_test()"
      ],
      "metadata": {
        "colab": {
          "base_uri": "https://localhost:8080/"
        },
        "id": "8ygA9YH29Nz3",
        "outputId": "16c28d41-eab5-4f0c-c861-a96f7a666f84"
      },
      "execution_count": 4,
      "outputs": [
        {
          "output_type": "stream",
          "name": "stdout",
          "text": [
            "Classical Best Strategy Circuit:\n",
            "a: ───M───────\n",
            "\n",
            "b: ───M───────\n",
            "\n",
            "x: ───H───M───\n",
            "\n",
            "y: ───H───M───\n",
            "Simulating 100 repetitions...\n",
            "Results\n",
            "a: ____________________________________________________________________________________________________\n",
            "b: ____________________________________________________________________________________________________\n",
            "x: _11______111__1_111_11___1_11111_11_1______1__1_11_11__1_11111__11111__111__11_1_1_____1_1_1_1_1___1\n",
            "y: 11__1_1111_1____1_111_11111_11_11_111__1_1__1_1_1_1_1_1___11111__111111_1_111_1__11__1_1__1____11_11\n",
            "(a XOR b) == (x AND y):\n",
            "   1_1111111_1_1111_1_1_1111_11__1_11_1_111111111_1_111_11111____111____111_111_1111_11111_1111111_111_\n",
            "Win rate: 71.0%\n"
          ]
        }
      ]
    }
  ]
}