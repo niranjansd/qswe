{
  "nbformat": 4,
  "nbformat_minor": 0,
  "metadata": {
    "colab": {
      "name": "Cirq_Bernstein_Vazirani.ipynb",
      "provenance": [],
      "collapsed_sections": []
    },
    "kernelspec": {
      "name": "python3",
      "display_name": "Python 3"
    },
    "language_info": {
      "name": "python"
    }
  },
  "cells": [
    {
      "cell_type": "code",
      "source": [
        "# !pip install cirq --quiet\n"
      ],
      "metadata": {
        "id": "LC-qRGBeolx4"
      },
      "execution_count": 32,
      "outputs": []
    },
    {
      "cell_type": "code",
      "source": [
        "#@title Bernstein-Vazirani Algorithm Simulator\n",
        "## Imports\n",
        "import numpy as np\n",
        "import cirq\n",
        "import random\n",
        "\n",
        "class BV(object):\n",
        "\n",
        "  def __init__(self, bitstring_length=8, repetitions=10):\n",
        "    self.repetitions = repetitions\n",
        "    self.num_qubits = bitstring_length + 1\n",
        "    # Choose qubits to use.\n",
        "    self.input_qubits = [cirq.GridQubit(i, 0) for i in range(self.num_qubits)]\n",
        "    self.output_qubit = cirq.GridQubit(self.num_qubits, 0)\n",
        "\n",
        "  def make_oracle(self, input_qubits, output_qubit,\n",
        "                  secret_bitstring=None, secret_bias_bit=None):\n",
        "    \"\"\"Gates implementing the function f(a) = a·string + bias (mod 2).\"\"\"\n",
        "    if secret_bias_bit:\n",
        "        yield cirq.X(self.output_qubit)\n",
        "    for qubit, bit in zip(self.input_qubits, secret_bitstring):\n",
        "        if bit:\n",
        "            yield cirq.CNOT(qubit, self.output_qubit)\n",
        "\n",
        "  def make_bernstein_vazirani_circuit(self, input_qubits, output_qubit, oracle):\n",
        "      \"\"\"Solves for string in f(a) = a·string + bias (mod 2) with one query.\"\"\"\n",
        "      c = cirq.Circuit()\n",
        "      # Initialize qubits.\n",
        "      c.append([cirq.X(output_qubit), cirq.H(output_qubit), cirq.H.on_each(*input_qubits)])\n",
        "      # Query oracle.\n",
        "      c.append(oracle)\n",
        "      # Measure in X basis.\n",
        "      c.append([cirq.H.on_each(*input_qubits), cirq.measure(*input_qubits, key='result')])\n",
        "      return c\n",
        "\n",
        "  def run_bernstein_vazirani_simulation(self, secret_bitstring=None,\n",
        "                                        secret_bias_bit=None):\n",
        "    # Embed the oracle into a special quantum circuit querying it exactly once.\n",
        "    if not secret_bias_bit:\n",
        "      secret_bias_bit = random.randint(0, 1)\n",
        "    if not secret_bitstring:\n",
        "      secret_bitstring = [random.randint(0, 1)\n",
        "                          for _ in range(self.num_qubits)]\n",
        "    oracle = self.make_oracle(self.input_qubits, self.output_qubit,\n",
        "                              secret_bitstring, secret_bias_bit)\n",
        "    circuit = self.make_bernstein_vazirani_circuit(self.input_qubits,\n",
        "                                                   self.output_qubit, oracle)\n",
        "    print('######### Printing Circuit ##########')\n",
        "    print(circuit)\n",
        "\n",
        "    # Sample from the circuit a couple times.\n",
        "    simulator = cirq.Simulator()\n",
        "    result = simulator.run(circuit, repetitions=self.repetitions)\n",
        "    frequencies = result.histogram(key='result', fold_func=bitstring)\n",
        "    print('######### Printing Results ##########')\n",
        "    print(f\"Targeted secret string: {''.join(map(str, secret_bitstring))}\",\n",
        "          \"||\", \"% of measurements\")\n",
        "    for k, v in frequencies.items():\n",
        "      print(f\"Measured secret string: {k}\", \"||\", v*100/self.repetitions)\n",
        "\n",
        "\n",
        "def bitstring(bits):\n",
        "    return ''.join(str(int(b)) for b in bits)\n",
        "\n"
      ],
      "metadata": {
        "id": "OGq3duAsep5h"
      },
      "execution_count": 42,
      "outputs": []
    },
    {
      "cell_type": "code",
      "execution_count": 44,
      "metadata": {
        "colab": {
          "base_uri": "https://localhost:8080/"
        },
        "id": "lq47GOK5oeiw",
        "outputId": "56c394fa-bdd9-4d62-d8cf-cf918bcfd25d"
      },
      "outputs": [
        {
          "output_type": "stream",
          "name": "stdout",
          "text": [
            "######### Printing Circuit ##########\n",
            "(0, 0): ───H───────@───H───────────────M('result')───\n",
            "                   │                   │\n",
            "(1, 0): ───H───H───┼───────────────────M─────────────\n",
            "                   │                   │\n",
            "(2, 0): ───H───────┼───@───H───────────M─────────────\n",
            "                   │   │               │\n",
            "(3, 0): ───H───────┼───┼───@───H───────M─────────────\n",
            "                   │   │   │           │\n",
            "(4, 0): ───H───────┼───┼───┼───@───H───M─────────────\n",
            "                   │   │   │   │       │\n",
            "(5, 0): ───H───H───┼───┼───┼───┼───────M─────────────\n",
            "                   │   │   │   │\n",
            "(6, 0): ───X───H───X───X───X───X─────────────────────\n",
            "######### Printing Results ##########\n",
            "Targeted secret string: 101110 || % of measurements\n",
            "Measured secret string: 101110 || 100.0\n"
          ]
        }
      ],
      "source": [
        "dsim = BV(bitstring_length=5)\n",
        "dsim.run_bernstein_vazirani_simulation()"
      ]
    }
  ]
}