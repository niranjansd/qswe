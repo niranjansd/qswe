{
  "nbformat": 4,
  "nbformat_minor": 0,
  "metadata": {
    "colab": {
      "name": "Cirq_Deutsch.ipynb",
      "provenance": [],
      "collapsed_sections": []
    },
    "kernelspec": {
      "name": "python3",
      "display_name": "Python 3"
    },
    "language_info": {
      "name": "python"
    }
  },
  "cells": [
    {
      "cell_type": "code",
      "source": [
        "# !pip install cirq --quiet\n"
      ],
      "metadata": {
        "id": "LC-qRGBeolx4"
      },
      "execution_count": 19,
      "outputs": []
    },
    {
      "cell_type": "code",
      "source": [
        "#@title Deutch Algorithm Simulator\n",
        "## Imports\n",
        "import numpy as np\n",
        "import cirq\n",
        "\n",
        "\n",
        "class Deutch():\n",
        "\n",
        "  def __init__(self):\n",
        "    # Initialize qubits.\n",
        "    self.q0, self.q1 = cirq.LineQubit.range(2)\n",
        "\n",
        "  def make_oracle(self, q0, q1, secret_function=[]):\n",
        "    \"\"\"Gates implementing the secret function f(x).\"\"\"\n",
        "    # If secret function is not provided, pick a random function.\n",
        "    if not secret_function:\n",
        "      secret_function = [np.random.randint(0, 2) for _ in range(2)]\n",
        "    print('######### Printing Secret Function ##########')\n",
        "    print(f\"Secret function:\\nf(0, 1) = ({', '.join(str(e) for e in secret_function)})\")\n",
        "    # Encode secret function as the oracle circuit.\n",
        "    if secret_function[0] != secret_function[1]:\n",
        "      yield cirq.CNOT(q0, q1)\n",
        "\n",
        "  def make_deutsch_circuit(self, q0, q1, oracle):\n",
        "    \"\"\"Make circuit for Deutsch algorithm.\"\"\"\n",
        "    c = cirq.Circuit()\n",
        "    # Initialize qubits.\n",
        "    c.append([cirq.X(q1), cirq.H(q1), cirq.H(q0)])\n",
        "    # Query oracle exactly once.\n",
        "    c.append(oracle)\n",
        "    # Measure qubit 1 in X basis.\n",
        "    c.append([cirq.Moment(cirq.H(q0)),\n",
        "              cirq.Moment(cirq.measure(q0, key='result'))])\n",
        "    return c\n",
        "\n",
        "  def run_deutsch_algorithm(self, secret_function=[]):\n",
        "    self.oracle = self.make_oracle(self.q0, self.q1, secret_function)\n",
        "    self.circuit = self.make_deutsch_circuit(self.q0, self.q1, self.oracle)\n",
        "    print('######### Printing Circuit ##########')\n",
        "    print(self.circuit)\n",
        "\n",
        "    # Simulate the circuit.\n",
        "    simulator = cirq.Simulator()\n",
        "    result = simulator.run(self.circuit)\n",
        "    print('######### Result of f(0)⊕f(1) ##########')\n",
        "    print(result)\n",
        "\n",
        "\n"
      ],
      "metadata": {
        "cellView": "form",
        "id": "OGq3duAsep5h"
      },
      "execution_count": 17,
      "outputs": []
    },
    {
      "cell_type": "code",
      "execution_count": 20,
      "metadata": {
        "colab": {
          "base_uri": "https://localhost:8080/"
        },
        "id": "lq47GOK5oeiw",
        "outputId": "3a8f2c3c-2902-42f3-fcf7-3d70f6d2b42b"
      },
      "outputs": [
        {
          "output_type": "stream",
          "name": "stdout",
          "text": [
            "######### Printing Secret Function ##########\n",
            "Secret function:\n",
            "f(0, 1) = (0, 1)\n",
            "######### Printing Circuit ##########\n",
            "0: ───H───────@───H───M('result')───\n",
            "              │\n",
            "1: ───X───H───X─────────────────────\n",
            "######### Result of f(0)⊕f(1) ##########\n",
            "result=1\n"
          ]
        }
      ],
      "source": [
        "dsim = Deutch()\n",
        "dsim.run_deutsch_algorithm()"
      ]
    }
  ]
}